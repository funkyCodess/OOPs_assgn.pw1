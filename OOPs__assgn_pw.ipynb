{
  "nbformat": 4,
  "nbformat_minor": 0,
  "metadata": {
    "colab": {
      "provenance": []
    },
    "kernelspec": {
      "name": "python3",
      "display_name": "Python 3"
    },
    "language_info": {
      "name": "python"
    }
  },
  "cells": [
    {
      "cell_type": "markdown",
      "source": [
        "#Python OOPs Questions"
      ],
      "metadata": {
        "id": "b3S5tRwIZQ84"
      }
    },
    {
      "cell_type": "markdown",
      "source": [
        "1. What is Object-Oriented Programming (OOP)?\n",
        "\n",
        "  - Object-Oriented Programming (OOP) is a programming paradigm based on organizing software around objects. These objects combine data (attributes) and behavior (methods), enabling modular, reusable, and intuitive code. OOP is built on principles like encapsulation, inheritance, abstraction, and polymorphism."
      ],
      "metadata": {
        "id": "2HnJqHhzZiYK"
      }
    },
    {
      "cell_type": "markdown",
      "source": [
        "2. What is class in OOPs?\n",
        "\n",
        "   -  class is a blueprint for creating objects. It defines the attributes (data) and methods (functions) that its objects will have. For example:"
      ],
      "metadata": {
        "id": "8kg1oOyegU-B"
      }
    },
    {
      "cell_type": "code",
      "execution_count": null,
      "metadata": {
        "id": "EYMzwSOrZCWU"
      },
      "outputs": [],
      "source": [
        "class Car:\n",
        "    def __init__(self, brand, color):\n",
        "        self.brand = brand\n",
        "        self.color = color\n",
        "\n",
        "    def drive(self):\n",
        "        print(f\"{self.color} {self.brand} is driving!\")\n"
      ]
    },
    {
      "cell_type": "markdown",
      "source": [
        "3. What is an object in OOPs?\n",
        "\n",
        "  - An object is an instance of a class. It has its own state and behavior, defined by the class it belongs to. Example:"
      ],
      "metadata": {
        "id": "Zbox2xV6hLLf"
      }
    },
    {
      "cell_type": "code",
      "source": [
        "my_car = Car(\"Toyota\", \"Red\")\n",
        "my_car.drive()\n"
      ],
      "metadata": {
        "colab": {
          "base_uri": "https://localhost:8080/"
        },
        "id": "Ze3CzUVnhI1y",
        "outputId": "7322a6b7-46a4-4d41-d57e-fc1866ce42fd"
      },
      "execution_count": null,
      "outputs": [
        {
          "output_type": "stream",
          "name": "stdout",
          "text": [
            "Red Toyota is driving!\n"
          ]
        }
      ]
    },
    {
      "cell_type": "markdown",
      "source": [
        "4. What is the difference between encapsulation and abstraction?\n",
        "\n",
        "  - Abstraction -  Abstraction is the process of hiding the internal implementation details of a system and exposing only the essential features or functionalities to the user.\n",
        "\n",
        "  -Abstraction focuses on hiding the implementation and showing only the necessary details.\n",
        "\n",
        "  - Encapsulation -  Encapsulation is the process of bundling data (attributes) and methods (functions) that operate on the data into a single unit, typically a class, while restricting direct access to some of the object's components to protect its integrity.\n",
        "\n",
        "   -Encapsulation focuses on hiding the data and controlling access to it.\n",
        "Abstraction focuses on hiding the implementation and showing only the necessa"
      ],
      "metadata": {
        "id": "Kwmr_vNrhvwG"
      }
    },
    {
      "cell_type": "markdown",
      "source": [
        "5 - What are dunder methods in Python?\n",
        "\n",
        "  - Dunder methods (short for double underscore methods), also called magic methods, are special methods in Python with names surrounded by double underscores (e.g., __init__, __str__). They enable the customization of built-in operations for objects.\n",
        "\n",
        "  - Examples:\n",
        "\n",
        "  __init__: Initializes an object.\n",
        "\n",
        "  __str__: Provides a string representation of the object.\n",
        "\n",
        "  __add__: Defines addition behavior for objects.\n",
        "\n",
        "  Example:"
      ],
      "metadata": {
        "id": "cE7OJyGrmNZw"
      }
    },
    {
      "cell_type": "code",
      "source": [
        "class Point:\n",
        "    def __init__(self, x, y):\n",
        "        self.x = x\n",
        "        self.y = y\n",
        "\n",
        "    def __str__(self):\n",
        "        return f\"Point({self.x}, {self.y})\"\n",
        "\n",
        "p = Point(1, 2)\n",
        "print(p)\n"
      ],
      "metadata": {
        "colab": {
          "base_uri": "https://localhost:8080/"
        },
        "id": "t88lLUljhphq",
        "outputId": "24871780-7864-4f82-993e-e4961ef202b1"
      },
      "execution_count": null,
      "outputs": [
        {
          "output_type": "stream",
          "name": "stdout",
          "text": [
            "Point(1, 2)\n"
          ]
        }
      ]
    },
    {
      "cell_type": "markdown",
      "source": [
        "6 - Explain the concept of inheritance in OOP?\n",
        "\n",
        "  - Inheritance allows a class (subclass) to inherit attributes and methods from another class (parent class), enabling code reuse and extension."
      ],
      "metadata": {
        "id": "Q4yxA2V-ooIa"
      }
    },
    {
      "cell_type": "code",
      "source": [
        "class Animal:\n",
        "    def speak(self):\n",
        "        print(\"Animal speaks.\")\n",
        "\n",
        "class Dog(Animal):\n",
        "    def speak(self):\n",
        "        print(\"Dog barks.\")\n",
        "\n",
        "dog = Dog()\n",
        "dog.speak()\n"
      ],
      "metadata": {
        "id": "V6VSfPULmvJ-"
      },
      "execution_count": null,
      "outputs": []
    },
    {
      "cell_type": "markdown",
      "source": [
        "7-  What is polymorphism in OOP?\n",
        "\n",
        "  - Polymorphism means \"many forms.\" It allows objects of different classes to be treated as objects of a common superclass, enabling methods with the same name to behave differently based on the object.\n",
        "\n",
        "  Example:"
      ],
      "metadata": {
        "id": "CVrh0s0H2JSk"
      }
    },
    {
      "cell_type": "code",
      "source": [
        "class Bird:\n",
        "    def sound(self):\n",
        "        print(\"Tweet\")\n",
        "\n",
        "class Cat:\n",
        "    def sound(self):\n",
        "        print(\"Meow\")\n",
        "\n",
        "def make_sound(animal):\n",
        "    animal.sound()\n",
        "\n",
        "make_sound(Bird())\n",
        "make_sound(Cat())\n"
      ],
      "metadata": {
        "colab": {
          "base_uri": "https://localhost:8080/"
        },
        "id": "RLAwIJjD2cLQ",
        "outputId": "71d99edb-e02b-4125-f6e3-9aee57c6fc07"
      },
      "execution_count": null,
      "outputs": [
        {
          "output_type": "stream",
          "name": "stdout",
          "text": [
            "Tweet\n",
            "Meow\n"
          ]
        }
      ]
    },
    {
      "cell_type": "markdown",
      "source": [
        "8- How is encapsulation achieve in python?\n",
        "\n",
        "  - Encapsulation is achieved by defining attributes as private (prefixing with __) and providing controlled access through getter and setter methods."
      ],
      "metadata": {
        "id": "H6msNCqY61A8"
      }
    },
    {
      "cell_type": "code",
      "source": [
        "class BankAccount:\n",
        "    def __init__(self, balance):\n",
        "        self.__balance = balance\n",
        "\n",
        "    def deposit(self, amount):\n",
        "        self.__balance += amount\n",
        "\n",
        "    def get_balance(self):\n",
        "        return self.__balance\n"
      ],
      "metadata": {
        "id": "h--XwQsy2qYx"
      },
      "execution_count": null,
      "outputs": []
    },
    {
      "cell_type": "markdown",
      "source": [
        "9-  What is a constructor in Python?\n",
        "\n",
        "  - A constructor is a special method in Python (__init__) that gets called automatically when an object is created. It initializes the object's attributes.\n",
        "\n",
        "Example:"
      ],
      "metadata": {
        "id": "dgNzeiyB7Tn7"
      }
    },
    {
      "cell_type": "code",
      "source": [
        "class Person:\n",
        "    def __init__(self, name, age):\n",
        "        self.name = name\n",
        "        self.age = age\n",
        "\n",
        "p = Person(\"Neha\", 25)\n",
        "print(p.name)\n"
      ],
      "metadata": {
        "colab": {
          "base_uri": "https://localhost:8080/"
        },
        "id": "Pqj3aEww7OMX",
        "outputId": "9e6d9bb4-0e25-4a06-dea9-a5f8aa9bbcef"
      },
      "execution_count": null,
      "outputs": [
        {
          "output_type": "stream",
          "name": "stdout",
          "text": [
            "Neha\n"
          ]
        }
      ]
    },
    {
      "cell_type": "markdown",
      "source": [
        "10-  What are class and static method in python?\n",
        "\n",
        "  - class method :\n",
        "  \n",
        "  - Use the @classmethod decorator.\n",
        "\n",
        "  - Operate on the class itself, not instances.\n",
        "\n",
        "  - The first parameter is cls (referring to the class).\n",
        "\n",
        "  EX-"
      ],
      "metadata": {
        "id": "jQFHuU0h7uMU"
      }
    },
    {
      "cell_type": "code",
      "source": [
        "class MyClass:\n",
        "    count = 0\n",
        "\n",
        "    @classmethod\n",
        "    def increment_count(cls):\n",
        "        cls.count += 1\n"
      ],
      "metadata": {
        "id": "i2XDQUA57hn4"
      },
      "execution_count": null,
      "outputs": []
    },
    {
      "cell_type": "markdown",
      "source": [
        "11.  What is method overloading in python?\n",
        "\n",
        "  - Method Overloading refers to defining multiple methods with the same name but different parameters. While Python doesn't support true method overloading as seen in languages like Java, it can be simulated by using default arguments or *args and **kwargs."
      ],
      "metadata": {
        "id": "cDC7D5UG_snz"
      }
    },
    {
      "cell_type": "code",
      "source": [
        "class Calculator:\n",
        "    def add(self, a, b, c=0):\n",
        "        return a + b + c\n",
        "\n",
        "calc = Calculator()\n",
        "print(calc.add(2, 3))\n",
        "print(calc.add(2, 3, 4))\n"
      ],
      "metadata": {
        "colab": {
          "base_uri": "https://localhost:8080/"
        },
        "id": "rnMRQxTH9xYI",
        "outputId": "be687ec4-526e-442f-8cde-833364b6b491"
      },
      "execution_count": null,
      "outputs": [
        {
          "output_type": "stream",
          "name": "stdout",
          "text": [
            "5\n",
            "9\n"
          ]
        }
      ]
    },
    {
      "cell_type": "markdown",
      "source": [
        "12.  What is method overriding in OOP?\n",
        "\n",
        "  - Method Overriding occurs when a subclass provides a specific implementation of a method that is already defined in its superclass. The overridden method in the subclass has the same name, parameters, and return type as the one in the superclass."
      ],
      "metadata": {
        "id": "PV2YdAW2linj"
      }
    },
    {
      "cell_type": "code",
      "source": [
        "class Parent:\n",
        "    def greet(self):\n",
        "        print(\"Hello from Parent!\")\n",
        "\n",
        "class Child(Parent):\n",
        "    def greet(self):\n",
        "        print(\"Hello from Child!\")\n",
        "\n",
        "child = Child()\n",
        "child.greet()\n"
      ],
      "metadata": {
        "colab": {
          "base_uri": "https://localhost:8080/"
        },
        "id": "WmUtwnntlh8s",
        "outputId": "23ef34ef-dedb-411e-cb99-81407424f8f6"
      },
      "execution_count": null,
      "outputs": [
        {
          "output_type": "stream",
          "name": "stdout",
          "text": [
            "Hello from Child!\n"
          ]
        }
      ]
    },
    {
      "cell_type": "markdown",
      "source": [
        "13. What is a property decorator in Python?\n",
        "\n",
        "  - The @property decorator is used to define methods that can be accessed like attributes. It provides a way to encapsulate attribute access while keeping the syntax clean.\n",
        "\n",
        "Example:"
      ],
      "metadata": {
        "id": "j1zGS4X9l9zw"
      }
    },
    {
      "cell_type": "code",
      "source": [
        "class Circle:\n",
        "    def __init__(self, radius):\n",
        "        self._radius = radius\n",
        "\n",
        "    @property\n",
        "    def radius(self):\n",
        "        return self._radius\n",
        "\n",
        "    @radius.setter\n",
        "    def radius(self, value):\n",
        "        if value > 0:\n",
        "            self._radius = value\n",
        "        else:\n",
        "            raise ValueError(\"Radius must be positive!\")\n",
        "\n",
        "circle = Circle(5)\n",
        "print(circle.radius)\n",
        "circle.radius = 10\n"
      ],
      "metadata": {
        "colab": {
          "base_uri": "https://localhost:8080/"
        },
        "id": "zvmReyCIl2Lz",
        "outputId": "9ea2440c-51c2-498d-f1cc-9c507165e0a2"
      },
      "execution_count": null,
      "outputs": [
        {
          "output_type": "stream",
          "name": "stdout",
          "text": [
            "5\n"
          ]
        }
      ]
    },
    {
      "cell_type": "markdown",
      "source": [
        "14. Why is polymorphism important in OOP?\n",
        "\n",
        "  - Polymorphism is important because it allows objects of different types to be treated uniformly. This promotes flexibility, scalability, and code reusability.\n",
        "\n",
        "Benefits:\n",
        "\n",
        "  Enables a single interface to represent different types.\n",
        "\n",
        "  Simplifies code, especially in frameworks and libraries.\n",
        "\n",
        "  Enhances maintainability by decoupling components.\n"
      ],
      "metadata": {
        "id": "DQFXjUUcmRfA"
      }
    },
    {
      "cell_type": "markdown",
      "source": [
        "15. What is an abstract class in Python?\n",
        "\n",
        "  - An abstract class is a class that cannot be instantiated and serves as a blueprint for other classes. It can include abstract methods (methods declared but not implemented) and concrete methods (fully implemented).\n",
        "\n",
        "Example:"
      ],
      "metadata": {
        "id": "OYeGLGfamms8"
      }
    },
    {
      "cell_type": "code",
      "source": [
        "from abc import ABC, abstractmethod\n",
        "\n",
        "class Animal(ABC):\n",
        "    @abstractmethod\n",
        "    def speak(self):\n",
        "        pass\n",
        "\n",
        "class Dog(Animal):\n",
        "    def speak(self):\n",
        "        return \"Bark\"\n",
        "\n",
        "dog = Dog()\n",
        "print(dog.speak())\n"
      ],
      "metadata": {
        "colab": {
          "base_uri": "https://localhost:8080/"
        },
        "id": "uaZ10MqkmJyO",
        "outputId": "e2f4d15e-2c91-4374-a257-b26746ba1513"
      },
      "execution_count": null,
      "outputs": [
        {
          "output_type": "stream",
          "name": "stdout",
          "text": [
            "Bark\n"
          ]
        }
      ]
    },
    {
      "cell_type": "markdown",
      "source": [
        "16.  What are the advantages of OOP?\n",
        "\n",
        "  - Modularity: Code is organized into objects, making it easier to manage and debug.\n",
        "\n",
        "  Reusability: Inheritance allows the reuse of existing code.\n",
        "\n",
        "  Scalability: Polymorphism and abstraction enable easy scalability and adaptation to changes.\n",
        "\n",
        "  Data Security: Encapsulation protects sensitive data.\n",
        "\n",
        "  Real-World Modeling: Simulates real-world entities and relationships effectively."
      ],
      "metadata": {
        "id": "WGWGePMem782"
      }
    },
    {
      "cell_type": "markdown",
      "source": [
        "17. What is the difference between a class variable and an instance variable?\n",
        "\n",
        "  - Class Variable:\n",
        "\n",
        "  A variable that is shared across all instances of a class. It is defined at the class level and not tied to any specific object.\n",
        "\n",
        "  Class variables are shared by all instances of the class.\n",
        "\n",
        "  - Instance Variable:\n",
        "\n",
        "  A variable that is unique to each instance of a class. It is defined within methods like __init__ and belongs to the specific object created from the class.\n",
        "\n",
        "  Instance variables are specific to each instance."
      ],
      "metadata": {
        "id": "UDMchUDcnQbM"
      }
    },
    {
      "cell_type": "markdown",
      "source": [
        "18.  What is multiple inheritance in Python?\n",
        "\n",
        "  - Multiple Inheritance allows a class to inherit from more than one parent class. This is useful for combining functionalities but can lead to complexity, such as the diamond problem.\n",
        "\n",
        "  example:"
      ],
      "metadata": {
        "id": "eEtV7ybKKhUE"
      }
    },
    {
      "cell_type": "code",
      "source": [
        "class A:\n",
        "    def feature(self):\n",
        "        print(\"Feature A\")\n",
        "\n",
        "class B:\n",
        "    def feature(self):\n",
        "        print(\"Feature B\")\n",
        "\n",
        "class C(A, B):\n",
        "    pass\n",
        "\n",
        "obj = C()\n",
        "obj.feature()\n"
      ],
      "metadata": {
        "colab": {
          "base_uri": "https://localhost:8080/"
        },
        "id": "VHSz4ip1m2H7",
        "outputId": "3c4b5394-c962-412a-c1fd-ab332e7efd12"
      },
      "execution_count": null,
      "outputs": [
        {
          "output_type": "stream",
          "name": "stdout",
          "text": [
            "Feature A\n"
          ]
        }
      ]
    },
    {
      "cell_type": "markdown",
      "source": [
        "19.   Explain the purpose of __str__ and __repr__ methods in Python.\n",
        "\n",
        "  - __str__: Provides a human-readable or user-friendly string representation of an object. Used by print() and str().\n",
        "\n",
        "  - __repr__: Provides a developer-focused string representation of an object. Used by repr() and interactive interpreters.\n",
        "\n",
        "  Example:"
      ],
      "metadata": {
        "id": "gO35ODxwMVUQ"
      }
    },
    {
      "cell_type": "code",
      "source": [
        "class Point:\n",
        "    def __init__(self, x, y):\n",
        "        self.x = x\n",
        "        self.y = y\n",
        "\n",
        "    def __str__(self):\n",
        "        return f\"Point({self.x}, {self.y})\"\n",
        "\n",
        "    def __repr__(self):\n",
        "        return f\"Point(x={self.x}, y={self.y})\"\n",
        "\n",
        "point = Point(1, 2)\n",
        "print(point)\n",
        "print(repr(point))\n"
      ],
      "metadata": {
        "colab": {
          "base_uri": "https://localhost:8080/"
        },
        "id": "zHxiD6BxL3Xb",
        "outputId": "0ae8d8d0-4376-4a74-978b-3a8a6c4e327f"
      },
      "execution_count": null,
      "outputs": [
        {
          "output_type": "stream",
          "name": "stdout",
          "text": [
            "Point(1, 2)\n",
            "Point(x=1, y=2)\n"
          ]
        }
      ]
    },
    {
      "cell_type": "markdown",
      "source": [
        "20.  What is the significance of the super() function in Python?\n",
        "\n",
        "  - The super() function is used to call methods from a parent class. It is commonly used in method overriding and constructors to ensure that the parent class’s methods are invoked.\n",
        "\n",
        "  Example:"
      ],
      "metadata": {
        "id": "Qcs6NRHgQCWs"
      }
    },
    {
      "cell_type": "code",
      "source": [
        "class Parent:\n",
        "    def greet(self):\n",
        "        print(\"Hello from Parent!\")\n",
        "\n",
        "class Child(Parent):\n",
        "    def greet(self):\n",
        "        super().greet()\n",
        "        print(\"Hello from Child!\")\n",
        "\n",
        "child = Child()\n",
        "child.greet()\n"
      ],
      "metadata": {
        "colab": {
          "base_uri": "https://localhost:8080/"
        },
        "id": "F8KHVY-XNDz-",
        "outputId": "e97ea079-d540-4be7-b1a1-142ea9040ad0"
      },
      "execution_count": null,
      "outputs": [
        {
          "output_type": "stream",
          "name": "stdout",
          "text": [
            "Hello from Parent!\n",
            "Hello from Child!\n"
          ]
        }
      ]
    },
    {
      "cell_type": "markdown",
      "source": [
        "21.  What is the significance of the __del__ method in Python?\n",
        "\n",
        "  - The __del__ method is a special method, also called the destructor, that is called when an object is about to be destroyed. It allows cleanup actions, such as closing files or releasing resources."
      ],
      "metadata": {
        "id": "mhN8OhD0SL4M"
      }
    },
    {
      "cell_type": "code",
      "source": [
        "class FileHandler:\n",
        "    def __init__(self, filename):\n",
        "        self.file = open(filename, 'w')\n",
        "\n",
        "    def __del__(self):\n",
        "        self.file.close()\n",
        "        print(\"File closed.\")\n",
        "\n",
        "handler = FileHandler(\"example.txt\")\n",
        "del handler\n"
      ],
      "metadata": {
        "colab": {
          "base_uri": "https://localhost:8080/"
        },
        "id": "UkX6JKERREFB",
        "outputId": "75355706-3024-4317-cd49-3fb3500247f0"
      },
      "execution_count": null,
      "outputs": [
        {
          "output_type": "stream",
          "name": "stdout",
          "text": [
            "File closed.\n"
          ]
        }
      ]
    },
    {
      "cell_type": "markdown",
      "source": [
        "22. What is the difference between @staticmethod and @classmethod in Python?\n",
        "\n",
        "  - @staticmethod: A @staticmethod is a method that does not operate on an instance or a class. It is a utility function that belongs to the class and can be called without creating an instance. It does not take self or cls as its parameter.\n",
        "\n",
        "  - @classmethod: A @classmethod is a method that operates on the class rather than instances of the class. It takes cls (the class itself) as its first parameter and can modify the class state or access class-level attributes."
      ],
      "metadata": {
        "id": "3ISQt0hFTNkQ"
      }
    },
    {
      "cell_type": "markdown",
      "source": [
        "23. How does polymorphism work in Python with inheritance?\n",
        "\n",
        "  -In Python, polymorphism allows methods in a subclass to override methods in a superclass while sharing the same interface. It ensures the appropriate method is called based on the object type at runtime.\n",
        "\n",
        "Example:"
      ],
      "metadata": {
        "id": "33EJ7So5TW9m"
      }
    },
    {
      "cell_type": "code",
      "source": [
        "class Animal:\n",
        "    def speak(self):\n",
        "        print(\"Animal makes a sound.\")\n",
        "\n",
        "class Dog(Animal):\n",
        "    def speak(self):\n",
        "        print(\"Dog barks.\")\n",
        "\n",
        "class Cat(Animal):\n",
        "    def speak(self):\n",
        "        print(\"Cat meows.\")\n",
        "\n",
        "def make_sound(animal):\n",
        "    animal.speak()\n",
        "\n",
        "make_sound(Dog())\n",
        "make_sound(Cat())\n"
      ],
      "metadata": {
        "colab": {
          "base_uri": "https://localhost:8080/"
        },
        "id": "ElqHzhmlS9Ft",
        "outputId": "6e9f29aa-1ac0-4f7d-83cd-7ec81c2daf37"
      },
      "execution_count": null,
      "outputs": [
        {
          "output_type": "stream",
          "name": "stdout",
          "text": [
            "Dog barks.\n",
            "Cat meows.\n"
          ]
        }
      ]
    },
    {
      "cell_type": "markdown",
      "source": [
        "24.  What is method chaining in Python OOP?\n",
        "\n",
        "  - Method Chaining allows calling multiple methods on the same object in a single statement by having methods return self. This enables a clean, readable syntax.\n",
        "\n",
        "Example:"
      ],
      "metadata": {
        "id": "68HokHVJT8d1"
      }
    },
    {
      "cell_type": "code",
      "source": [
        "class Person:\n",
        "    def __init__(self, name):\n",
        "        self.name = name\n",
        "\n",
        "    def set_age(self, age):\n",
        "        self.age = age\n",
        "        return self\n",
        "\n",
        "    def set_city(self, city):\n",
        "        self.city = city\n",
        "        return self\n",
        "\n",
        "    def display(self):\n",
        "        print(f\"{self.name}, {self.age}, lives in {self.city}.\")\n",
        "        return self\n",
        "\n",
        "person = Person(\"Alice\").set_age(25).set_city(\"New York\").display()\n",
        "\n"
      ],
      "metadata": {
        "colab": {
          "base_uri": "https://localhost:8080/"
        },
        "id": "t8zvk-y6T6wa",
        "outputId": "92a4534d-cee8-4bfb-d43b-447ca696e046"
      },
      "execution_count": null,
      "outputs": [
        {
          "output_type": "stream",
          "name": "stdout",
          "text": [
            "Alice, 25, lives in New York.\n"
          ]
        }
      ]
    },
    {
      "cell_type": "markdown",
      "source": [
        "25. What is the purpose of the __call__ method in Python?\n",
        "\n",
        "  - The __call__ method allows an instance of a class to be called as if it were a function. This is useful for implementing callable objects.\n",
        "\n",
        "Example:\n"
      ],
      "metadata": {
        "id": "5hXl19qDUvAP"
      }
    },
    {
      "cell_type": "code",
      "source": [
        "class Multiplier:\n",
        "    def __init__(self, factor):\n",
        "        self.factor = factor\n",
        "\n",
        "    def __call__(self, value):\n",
        "        return value * self.factor\n",
        "\n",
        "double = Multiplier(2)\n",
        "print(double(5))\n"
      ],
      "metadata": {
        "colab": {
          "base_uri": "https://localhost:8080/"
        },
        "id": "Jdaf-_EyUnB7",
        "outputId": "f010e79c-d6e7-4f40-c5e9-8c0c5437c452"
      },
      "execution_count": null,
      "outputs": [
        {
          "output_type": "stream",
          "name": "stdout",
          "text": [
            "10\n"
          ]
        }
      ]
    },
    {
      "cell_type": "markdown",
      "source": [],
      "metadata": {
        "id": "o_4uejS02140"
      }
    },
    {
      "cell_type": "markdown",
      "source": [
        "#Practical Questions"
      ],
      "metadata": {
        "id": "zFUWXnsQRpIJ"
      }
    },
    {
      "cell_type": "code",
      "source": [
        "# 1.  Create a parent class Animal with a method speak() that prints a generic message. Create a child class Dog\n",
        "#that overrides the speak() method to print \"Bark!\".\n",
        "\n",
        "class Animal:\n",
        "    def speak(self):\n",
        "        print(\"This animal makes a sound.\")\n",
        "\n",
        "class Dog(Animal):\n",
        "    def speak(self):\n",
        "        print(\"Bark!\")\n",
        "\n",
        "animal = Animal()\n",
        "animal.speak()\n",
        "\n",
        "dog = Dog()\n",
        "dog.speak()"
      ],
      "metadata": {
        "id": "wuBfekQWU-r-",
        "colab": {
          "base_uri": "https://localhost:8080/"
        },
        "outputId": "77c66ece-1038-4a34-f17b-ffb2b681c4e9"
      },
      "execution_count": 2,
      "outputs": [
        {
          "output_type": "stream",
          "name": "stdout",
          "text": [
            "This animal makes a sound.\n",
            "Bark!\n"
          ]
        }
      ]
    },
    {
      "cell_type": "code",
      "source": [
        " #2. Abstract class Shape with Circle and Rectangle\n",
        "\n",
        "from abc import ABC, abstractmethod\n",
        "\n",
        "class Shape(ABC):\n",
        "    @abstractmethod\n",
        "    def area(self):\n",
        "        pass\n",
        "\n",
        "class Circle(Shape):\n",
        "    def __init__(self, radius):\n",
        "        self.radius = radius\n",
        "\n",
        "    def area(self):\n",
        "        return 3.14159 * self.radius ** 2\n",
        "\n",
        "class Rectangle(Shape):\n",
        "    def __init__(self, width, height):\n",
        "        self.width = width\n",
        "        self.height = height\n",
        "\n",
        "    def area(self):\n",
        "        return self.width * self.height\n",
        "\n",
        "circle = Circle(5)\n",
        "print(circle.area())\n",
        "\n",
        "rectangle = Rectangle(4, 6)\n",
        "print(rectangle.area())"
      ],
      "metadata": {
        "colab": {
          "base_uri": "https://localhost:8080/"
        },
        "id": "qft-HSh1Vj0p",
        "outputId": "59635446-d0c1-4dd8-8195-e1037420eedc"
      },
      "execution_count": 4,
      "outputs": [
        {
          "output_type": "stream",
          "name": "stdout",
          "text": [
            "78.53975\n",
            "24\n"
          ]
        }
      ]
    },
    {
      "cell_type": "code",
      "source": [
        "#3. Implement a multi-level inheritance scenario where a class Vehicle has an attribute type. Derive a class Car\n",
        "#and further derive a class ElectricCar that adds a battery attribute.\n",
        "\n",
        "class Vehicle:\n",
        "    def __init__(self, vehicle_type):\n",
        "        self.type = vehicle_type\n",
        "\n",
        "class Car(Vehicle):\n",
        "    def __init__(self, vehicle_type, brand):\n",
        "        super().__init__(vehicle_type)\n",
        "        self.brand = brand\n",
        "\n",
        "class ElectricCar(Car):\n",
        "    def __init__(self, vehicle_type, brand, battery):\n",
        "        super().__init__(vehicle_type, brand)\n",
        "        self.battery = battery\n",
        "\n",
        "electric_car = ElectricCar(\"Electric\", \"Tesla\", \"100 kWh\")\n",
        "print(electric_car.type, electric_car.brand, electric_car.battery)"
      ],
      "metadata": {
        "colab": {
          "base_uri": "https://localhost:8080/"
        },
        "id": "69tDoiFFWOBc",
        "outputId": "2924f6bc-adbb-4fbb-e997-524a5d86b9fa"
      },
      "execution_count": 5,
      "outputs": [
        {
          "output_type": "stream",
          "name": "stdout",
          "text": [
            "Electric Tesla 100 kWh\n"
          ]
        }
      ]
    },
    {
      "cell_type": "code",
      "source": [
        "#4. Implement a multi-level inheritance scenario where a class Vehicle has an attribute type. Derive a class Car\n",
        "#and further derive a class ElectricCar that adds a battery attribute.\n",
        "\n",
        "class Vehicle:\n",
        "    def __init__(self, vehicle_type):\n",
        "        self.type = vehicle_type\n",
        "\n",
        "class Car(Vehicle):\n",
        "    def __init__(self, vehicle_type, brand):\n",
        "        super().__init__(vehicle_type)\n",
        "        self.brand = brand\n",
        "\n",
        "class ElectricCar(Car):\n",
        "    def __init__(self, vehicle_type, brand, battery):\n",
        "        super().__init__(vehicle_type, brand)\n",
        "        self.battery = battery\n",
        "\n",
        "electric_car = ElectricCar(\"Electric\", \"Tesla\", \"100 kWh\")\n",
        "print(electric_car.type, electric_car.brand, electric_car.battery)"
      ],
      "metadata": {
        "colab": {
          "base_uri": "https://localhost:8080/"
        },
        "id": "1l9YPC2mWhzI",
        "outputId": "b25c8834-3979-4c08-dbbb-6c200ed2cfb7"
      },
      "execution_count": 6,
      "outputs": [
        {
          "output_type": "stream",
          "name": "stdout",
          "text": [
            "Electric Tesla 100 kWh\n"
          ]
        }
      ]
    },
    {
      "cell_type": "code",
      "source": [
        "# 5. Encapsulation with BankAccount\n",
        "class BankAccount:\n",
        "    def __init__(self):\n",
        "        self.__balance = 0\n",
        "\n",
        "    def deposit(self, amount):\n",
        "        if amount > 0:\n",
        "            self.__balance += amount\n",
        "\n",
        "    def withdraw(self, amount):\n",
        "        if 0 < amount <= self.__balance:\n",
        "            self.__balance -= amount\n",
        "        else:\n",
        "            print(\"Insufficient balance or invalid amount.\")\n",
        "\n",
        "    def check_balance(self):\n",
        "        return self.__balance\n",
        "\n",
        "account = BankAccount()\n",
        "account.deposit(100)\n",
        "print(account.check_balance())\n",
        "account.withdraw(50)\n",
        "print(account.check_balance())"
      ],
      "metadata": {
        "colab": {
          "base_uri": "https://localhost:8080/"
        },
        "id": "DaJZffV9W4Wr",
        "outputId": "2c6287ec-cea4-44df-e9f8-0c742e1276c6"
      },
      "execution_count": 7,
      "outputs": [
        {
          "output_type": "stream",
          "name": "stdout",
          "text": [
            "100\n",
            "50\n"
          ]
        }
      ]
    },
    {
      "cell_type": "code",
      "source": [
        "#6. Demonstrate runtime polymorphism using a method play() in a base class Instrument. Derive classes Guitar\n",
        "#and Piano that implement their own version of play().\n",
        "\n",
        "class Instrument:\n",
        "    def play(self):\n",
        "        print(\"This instrument is being played.\")\n",
        "\n",
        "class Guitar(Instrument):\n",
        "    def play(self):\n",
        "        print(\"Strumming the guitar.\")\n",
        "\n",
        "class Piano(Instrument):\n",
        "    def play(self):\n",
        "        print(\"Playing the piano.\")\n",
        "\n",
        "instrument = Instrument()\n",
        "instrument.play()\n",
        "\n",
        "guitar = Guitar()\n",
        "guitar.play()\n",
        "\n",
        "piano = Piano()\n",
        "piano.play()"
      ],
      "metadata": {
        "colab": {
          "base_uri": "https://localhost:8080/"
        },
        "id": "7o9FC5w1W_T3",
        "outputId": "c1aeb4fa-abec-47a9-d21b-a4890654e720"
      },
      "execution_count": 8,
      "outputs": [
        {
          "output_type": "stream",
          "name": "stdout",
          "text": [
            "This instrument is being played.\n",
            "Strumming the guitar.\n",
            "Playing the piano.\n"
          ]
        }
      ]
    },
    {
      "cell_type": "code",
      "source": [
        "#7. Create a class MathOperations with a class method add_numbers() to add two numbers and a static\n",
        "#method subtract_numbers() to subtract two numbers.\n",
        "\n",
        "class MathOperations:\n",
        "    @classmethod\n",
        "    def add_numbers(cls, a, b):\n",
        "        return a + b\n",
        "\n",
        "    @staticmethod\n",
        "    def subtract_numbers(a, b):\n",
        "        return a - b\n",
        "\n",
        "print(MathOperations.add_numbers(5, 3))\n",
        "print(MathOperations.subtract_numbers(5, 3))"
      ],
      "metadata": {
        "colab": {
          "base_uri": "https://localhost:8080/"
        },
        "id": "oeYQUJS4XhJ-",
        "outputId": "9d4bb6af-2ba0-45fd-fca4-e05045e90935"
      },
      "execution_count": 9,
      "outputs": [
        {
          "output_type": "stream",
          "name": "stdout",
          "text": [
            "8\n",
            "2\n"
          ]
        }
      ]
    },
    {
      "cell_type": "code",
      "source": [
        "# 8. Counting instances in Person class\n",
        "class Person:\n",
        "    count = 0\n",
        "\n",
        "    def __init__(self):\n",
        "        Person.count += 1\n",
        "\n",
        "    @classmethod\n",
        "    def get_count(cls):\n",
        "        return cls.count\n",
        "\n",
        "p1 = Person()\n",
        "p2 = Person()\n",
        "print(Person.get_count())"
      ],
      "metadata": {
        "colab": {
          "base_uri": "https://localhost:8080/"
        },
        "id": "CS4BNtQUXzXO",
        "outputId": "f041346e-aaf8-4594-fb2d-e956121637a9"
      },
      "execution_count": 10,
      "outputs": [
        {
          "output_type": "stream",
          "name": "stdout",
          "text": [
            "2\n"
          ]
        }
      ]
    },
    {
      "cell_type": "code",
      "source": [
        "# 9. Fraction class with overridden __str__ method\n",
        "class Fraction:\n",
        "    def __init__(self, numerator, denominator):\n",
        "        self.numerator = numerator\n",
        "        self.denominator = denominator\n",
        "\n",
        "    def __str__(self):\n",
        "        return f\"{self.numerator}/{self.denominator}\"\n",
        "\n",
        "fraction = Fraction(3, 4)\n",
        "print(fraction)"
      ],
      "metadata": {
        "colab": {
          "base_uri": "https://localhost:8080/"
        },
        "id": "yma51h8CX_T4",
        "outputId": "91bfaeb8-94c5-493f-eff2-6fd31719bba5"
      },
      "execution_count": 11,
      "outputs": [
        {
          "output_type": "stream",
          "name": "stdout",
          "text": [
            "3/4\n"
          ]
        }
      ]
    },
    {
      "cell_type": "code",
      "source": [
        "# 10. Operator overloading with Vector\n",
        "class Vector:\n",
        "    def __init__(self, x, y):\n",
        "        self.x = x\n",
        "        self.y = y\n",
        "\n",
        "    def __add__(self, other):\n",
        "        return Vector(self.x + other.x, self.y + other.y)\n",
        "\n",
        "    def __str__(self):\n",
        "        return f\"({self.x}, {self.y})\"\n",
        "\n",
        "v1 = Vector(1, 2)\n",
        "v2 = Vector(3, 4)\n",
        "v3 = v1 + v2\n",
        "print(v3)"
      ],
      "metadata": {
        "colab": {
          "base_uri": "https://localhost:8080/"
        },
        "id": "2DQoR2_ZYHDn",
        "outputId": "cfe9be54-a162-4e60-eb27-1d891b38b898"
      },
      "execution_count": 12,
      "outputs": [
        {
          "output_type": "stream",
          "name": "stdout",
          "text": [
            "(4, 6)\n"
          ]
        }
      ]
    },
    {
      "cell_type": "code",
      "source": [
        "#11. Create a class Person with attributes name and age. Add a method greet() that prints \"Hello, my name is\n",
        "#{name} and I am {age} years old.\"\n",
        "\n",
        "class Person:\n",
        "    def __init__(self, name, age):\n",
        "        self.name = Sneha\n",
        "        self.age = 23\n",
        "\n",
        "    def greet(self):\n",
        "        print(f\"Hello, my name is {self.name} and I am {self.age} years old.\")\n"
      ],
      "metadata": {
        "id": "4IkeUf1HYLwL"
      },
      "execution_count": 16,
      "outputs": []
    },
    {
      "cell_type": "code",
      "source": [
        "#12. Implement a class Student with attributes name and grades. Create a method average_grade() to compute\n",
        "#the average of the grade\n",
        "\n",
        "class Student:\n",
        "    def __init__(self, name, grades):\n",
        "\n",
        "        self.name = name\n",
        "        self.grades = grades\n",
        "\n",
        "    def average_grade(self):\n",
        "\n",
        "        if not self.grades:\n",
        "            return 0\n",
        "        return sum(self.grades) / len(self.grades)\n",
        "\n",
        "\n",
        "# Example usage\n",
        "student = Student(\"Sneha\", [85, 90, 78, 92])\n",
        "print(f\"Student: {student.name}, Average Grade: {student.average_grade():.2f}\")\n",
        "\n"
      ],
      "metadata": {
        "colab": {
          "base_uri": "https://localhost:8080/"
        },
        "id": "WlC-tJZHZGeW",
        "outputId": "04ae06a2-af19-4277-fe55-81e39d604bce"
      },
      "execution_count": 21,
      "outputs": [
        {
          "output_type": "stream",
          "name": "stdout",
          "text": [
            "Student: Sneha, Average Grade: 86.25\n"
          ]
        }
      ]
    },
    {
      "cell_type": "code",
      "source": [
        "#13. Create a class Rectangle with methods set_dimensions() to set the dimensions and area() to calculate the area.\n",
        "\n",
        "class Rectangle:\n",
        "    def __init__(self, length=0, width=0):\n",
        "\n",
        "        self.length = length\n",
        "        self.width = width\n",
        "\n",
        "    def set_dimensions(self, length, width):\n",
        "\n",
        "        self.length = length\n",
        "        self.width = width\n",
        "\n",
        "    def area(self):\n",
        "\n",
        "        return self.length * self.width\n",
        "\n",
        "\n",
        "# Example usage\n",
        "rectangle = Rectangle()\n",
        "rectangle.set_dimensions(5, 3)\n",
        "print(f\"Rectangle Dimensions: Length={rectangle.length}, Width={rectangle.width}\")\n",
        "print(f\"Area of Rectangle: {rectangle.area()}\")\n"
      ],
      "metadata": {
        "colab": {
          "base_uri": "https://localhost:8080/"
        },
        "id": "P2A3poUVZPIl",
        "outputId": "b98043f6-c4bf-4449-f93a-91a01d2f5ac9"
      },
      "execution_count": 22,
      "outputs": [
        {
          "output_type": "stream",
          "name": "stdout",
          "text": [
            "Rectangle Dimensions: Length=5, Width=3\n",
            "Area of Rectangle: 15\n"
          ]
        }
      ]
    },
    {
      "cell_type": "code",
      "source": [
        "#14. Create a class Employee with a method calculate_salary() that computes the salary based on hours worked\n",
        "# and hourly rate. Create a derived class Manager that adds a bonus to the salary.\n",
        "\n",
        "class Employee:\n",
        "    def __init__(self, hours_worked, hourly_rate):\n",
        "\n",
        "        self.hours_worked = hours_worked\n",
        "        self.hourly_rate = hourly_rate\n",
        "\n",
        "    def calculate_salary(self):\n",
        "\n",
        "        return self.hours_worked * self.hourly_rate\n",
        "\n",
        "\n",
        "class Manager(Employee):\n",
        "    def __init__(self, hours_worked, hourly_rate, bonus):\n",
        "\n",
        "        super().__init__(hours_worked, hourly_rate)\n",
        "        self.bonus = bonus\n",
        "\n",
        "    def calculate_salary(self):\n",
        "\n",
        "        base_salary = super().calculate_salary()\n",
        "        return base_salary + self.bonus\n",
        "\n",
        "# Example usage\n",
        "employee = Employee(40, 20)\n",
        "manager = Manager(40, 30, 500)\n",
        "\n",
        "print(f\"Employee Salary: ${employee.calculate_salary()}\")\n",
        "print(f\"Manager Salary: ${manager.calculate_salary()}\")\n",
        "\n",
        "\n"
      ],
      "metadata": {
        "colab": {
          "base_uri": "https://localhost:8080/"
        },
        "id": "nx9ZBvAdag8i",
        "outputId": "48058a80-bd66-45dd-c541-f4ca2e9e11bd"
      },
      "execution_count": 24,
      "outputs": [
        {
          "output_type": "stream",
          "name": "stdout",
          "text": [
            "Employee Salary: $800\n",
            "Manager Salary: $1700\n"
          ]
        }
      ]
    },
    {
      "cell_type": "code",
      "source": [
        "#15. Create a class Product with attributes name, price, and quantity. Implement a method total_price() that\n",
        "#calculates the total price of the product.\n",
        "\n",
        "class Product:\n",
        "    def __init__(self, name, price, quantity):\n",
        "\n",
        "        self.name = name\n",
        "        self.price = price\n",
        "        self.quantity = quantity\n",
        "\n",
        "    def total_price(self):\n",
        "\n",
        "        return self.price * self.quantity\n",
        "\n",
        "\n",
        "# Example usage\n",
        "product = Product(\"Laptop\", 1200, 2)\n",
        "print(f\"Product: {product.name}\")\n",
        "print(f\"Price per Unit: ${product.price}\")\n",
        "print(f\"Quantity: {product.quantity}\")\n",
        "print(f\"Total Price: ${product.total_price()}\")\n",
        "\n"
      ],
      "metadata": {
        "colab": {
          "base_uri": "https://localhost:8080/"
        },
        "id": "lOQg9ur1a8Jk",
        "outputId": "a0755dc7-e42c-4773-8a34-b65215b085fd"
      },
      "execution_count": 25,
      "outputs": [
        {
          "output_type": "stream",
          "name": "stdout",
          "text": [
            "Product: Laptop\n",
            "Price per Unit: $1200\n",
            "Quantity: 2\n",
            "Total Price: $2400\n"
          ]
        }
      ]
    },
    {
      "cell_type": "code",
      "source": [
        "#16. Create a class Animal with an abstract method sound(). Create two derived classes Cow and Sheep that\n",
        "# implement the sound() method.\n",
        "\n",
        "from abc import ABC, abstractmethod\n",
        "\n",
        "class Animal(ABC):\n",
        "\n",
        "    @abstractmethod\n",
        "    def sound(self):\n",
        "\n",
        "        pass\n",
        "\n",
        "class Cow(Animal):\n",
        "    def sound(self):\n",
        "\n",
        "        return \"Moo\"\n",
        "\n",
        "class Sheep(Animal):\n",
        "    def sound(self):\n",
        "\n",
        "        return \"Baa\"\n",
        "\n",
        "# Example usage\n",
        "cow = Cow()\n",
        "sheep = Sheep()\n",
        "\n",
        "print(f\"Cow makes this sound: {cow.sound()}\")\n",
        "print(f\"Sheep makes this sound: {sheep.sound()}\")\n"
      ],
      "metadata": {
        "colab": {
          "base_uri": "https://localhost:8080/"
        },
        "id": "qlnjAeTbbdPf",
        "outputId": "f1f07fbc-39d0-4c0d-d679-d96097138d6b"
      },
      "execution_count": 26,
      "outputs": [
        {
          "output_type": "stream",
          "name": "stdout",
          "text": [
            "Cow makes this sound: Moo\n",
            "Sheep makes this sound: Baa\n"
          ]
        }
      ]
    },
    {
      "cell_type": "code",
      "source": [
        "#17. Create a class Book with attributes title, author, and year_published. Add a method get_book_info() that\n",
        "#returns a formatted string with the book's details.\n",
        "\n",
        "class Book:\n",
        "    def __init__(self, title, author, year_published):\n",
        "\n",
        "        self.title = title\n",
        "        self.author = author\n",
        "        self.year_published = year_published\n",
        "\n",
        "    def get_book_info(self):\n",
        "\n",
        "        return f\"'{self.title}' by {self.author}, published in {self.year_published}.\"\n",
        "\n",
        "\n",
        "# Example usage\n",
        "book = Book(\"To Kill a Mockingbird\", \"Harper Lee\", 1960)\n",
        "print(book.get_book_info())\n"
      ],
      "metadata": {
        "colab": {
          "base_uri": "https://localhost:8080/"
        },
        "id": "S6HYqxT3b3tC",
        "outputId": "32b7d3d9-528d-4daf-d939-f39cc685b0ec"
      },
      "execution_count": 27,
      "outputs": [
        {
          "output_type": "stream",
          "name": "stdout",
          "text": [
            "'To Kill a Mockingbird' by Harper Lee, published in 1960.\n"
          ]
        }
      ]
    },
    {
      "cell_type": "code",
      "source": [
        "#18. Create a class House with attributes address and price. Create a derived class Mansion that adds an\n",
        "# attribute number_of_rooms\n",
        "\n",
        "class House:\n",
        "    def __init__(self, address, price):\n",
        "\n",
        "        self.address = address\n",
        "        self.price = price\n",
        "\n",
        "    def get_info(self):\n",
        "\n",
        "        return f\"Address: {self.address}, Price: ${self.price:,.2f}\"\n",
        "\n",
        "\n",
        "class Mansion(House):\n",
        "    def __init__(self, address, price, number_of_rooms):\n",
        "\n",
        "        super().__init__(address, price)\n",
        "        self.number_of_rooms = number_of_rooms\n",
        "\n",
        "    def get_info(self):\n",
        "\n",
        "        return f\"{super().get_info()}, Number of Rooms: {self.number_of_rooms}\"\n",
        "\n",
        "\n",
        "# Example usage\n",
        "house = House(\"123 kamla Street\", 250000)\n",
        "mansion = Mansion(\"456 jack Avenue\", 1500000, 15)\n",
        "\n",
        "print(house.get_info())\n",
        "print(mansion.get_info())\n"
      ],
      "metadata": {
        "colab": {
          "base_uri": "https://localhost:8080/"
        },
        "id": "z9mQGsjEcNES",
        "outputId": "f8fad678-e748-438f-ec1b-7f997f8f4aa3"
      },
      "execution_count": 29,
      "outputs": [
        {
          "output_type": "stream",
          "name": "stdout",
          "text": [
            "Address: 123 kamla Street, Price: $250,000.00\n",
            "Address: 456 jack Avenue, Price: $1,500,000.00, Number of Rooms: 15\n"
          ]
        }
      ]
    },
    {
      "cell_type": "code",
      "source": [],
      "metadata": {
        "id": "b_jouAXuchgm"
      },
      "execution_count": null,
      "outputs": []
    }
  ]
}